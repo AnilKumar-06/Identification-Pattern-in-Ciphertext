{
  "nbformat": 4,
  "nbformat_minor": 0,
  "metadata": {
    "colab": {
      "name": "ciphersClassification.ipynb",
      "provenance": [],
      "authorship_tag": "ABX9TyMaBMynqRfK0CULAA8E0gBU",
      "include_colab_link": true
    },
    "kernelspec": {
      "name": "python3",
      "display_name": "Python 3"
    }
  },
  "cells": [
    {
      "cell_type": "markdown",
      "metadata": {
        "id": "view-in-github",
        "colab_type": "text"
      },
      "source": [
        "<a href=\"https://colab.research.google.com/github/AnilKumar-06/Identification-Pattern-in-Ciphertext/blob/main/ciphersClassification.ipynb\" target=\"_parent\"><img src=\"https://colab.research.google.com/assets/colab-badge.svg\" alt=\"Open In Colab\"/></a>"
      ]
    },
    {
      "cell_type": "code",
      "metadata": {
        "id": "Evt4l-8aSUP8"
      },
      "source": [
        " !pip install -U -q PyDrive\n",
        "from pydrive.auth import GoogleAuth\n",
        "from pydrive.drive import GoogleDrive\n",
        "from google.colab import auth\n",
        "from oauth2client.client import GoogleCredentials\n"
      ],
      "execution_count": null,
      "outputs": []
    },
    {
      "cell_type": "code",
      "metadata": {
        "id": "vr-HLMNTWa6p"
      },
      "source": [
        "!pip install -U -q PyDrive\n",
        "from pydrive.auth import GoogleAuth\n",
        "from pydrive.drive import GoogleDrive\n",
        "from google.colab import auth\n",
        "from oauth2client.client import GoogleCredentials"
      ],
      "execution_count": null,
      "outputs": []
    },
    {
      "cell_type": "code",
      "metadata": {
        "id": "v7l-G_6NXapL"
      },
      "source": [
        "auth.authenticate_user()\n",
        "gauth = GoogleAuth()\n",
        "gauth.credentials = GoogleCredentials.get_application_default()\n",
        "drive = GoogleDrive(gauth)"
      ],
      "execution_count": null,
      "outputs": []
    },
    {
      "cell_type": "code",
      "metadata": {
        "id": "Z5JVkYJrrHAK"
      },
      "source": [
        "import pandas as pd\n",
        "from sklearn.feature_extraction.text import TfidfVectorizer\n",
        "from keras.models import Sequential\n",
        "from keras.layers import Dense, Activation, Dropout\n",
        "from keras.optimizers import Adam"
      ],
      "execution_count": null,
      "outputs": []
    },
    {
      "cell_type": "code",
      "metadata": {
        "id": "5lpWWk_XZNlg"
      },
      "source": [
        "downloaded = drive.CreateFile({'id':'1ivUh27SSK-0tDtyiYuLRdn9mj_gbwhMv'})\n",
        "downloaded = drive.CreateFile({'id':'1aUzOa4lj5nfy46uYvD48idhtWAugXOuX'})\n",
        "downloaded = drive.CreateFile({'id':'1pectmG-QemnZzCQnmDXZ2F4MI4rCs0ee'})\n",
        "downloaded = drive.CreateFile({'id':'1QDgDk07p6iHh8b48sbp_Fa8JPcrS5zMa'})\n",
        "\n",
        "downloaded = drive.CreateFile({'id':'1R1vL0nYqZ0MiZaetu3-yxlhG4L3jwFV9'})\n",
        "downloaded.GetContentFile('Playfair.csv') \n",
        "downloaded.GetContentFile('ciphertext_column.txt') \n",
        "downloaded.GetContentFile('ciphertext_hill.txt')\n",
        "downloaded.GetContentFile('ciphertext_simple.txt')\n",
        "downloaded.GetContentFile('ciphertext_vigenere.txt')\n",
        "\n"
      ],
      "execution_count": null,
      "outputs": []
    },
    {
      "cell_type": "code",
      "metadata": {
        "id": "HXMW0TkTTNXh",
        "colab": {
          "base_uri": "https://localhost:8080/"
        },
        "outputId": "02c9ea22-86de-46dd-9c0b-dcfdf618c19e"
      },
      "source": [
        "plyfr = pd.read_csv('Playfair.csv', header = None, names=[\"ciphertext\"])\n",
        "#plyfr['label'] = 'playfair'\n",
        "plyfr.to_csv('Playfair.csv')\n",
        "#print(plyfr)\n",
        "col = pd.read_csv('ciphertext_column.txt', header = None, names=[\"ciphertext\"])\n",
        "#col['label'] = 'column'\n",
        "col.to_csv('ciphertext_column.txt')\n",
        "#print(col)\n",
        "hill = pd.read_csv('ciphertext_hill.txt', header = None, names=[\"ciphertext\"])\n",
        "#hill['label'] = 'hill'\n",
        "hill.to_csv('ciphertext_hill.txt')\n",
        "#print(hill)\n",
        "smpl = pd.read_csv('ciphertext_simple.txt', header = None, names=[\"ciphertext\"])\n",
        "#smpl['label'] = 'simple'\n",
        "smpl.to_csv('ciphertext_simple.txt')\n",
        "#print(smpl)\n",
        "vgnr = pd.read_csv('ciphertext_vigenere.txt', header = None, names=[\"ciphertext\"])\n",
        "#vgnr['label'] = 'vigenere'\n",
        "vgnr.to_csv('ciphertext_vigenere.txt')\n",
        "#print(vgnr)\n",
        "print(plyfr.head())\n"
      ],
      "execution_count": null,
      "outputs": [
        {
          "output_type": "stream",
          "text": [
            "                                          ciphertext\n",
            "0  bckmwbwlvxubpjbdzvtklkuvavokhhlaitgukdybaooncj...\n",
            "1  izszooxhluamewvzceelyoiqakmevauabranboylximhuz...\n",
            "2  fpcgddpntdcvqckpubudqgnjssccgmejndtewacefncmmn...\n",
            "3  pcvehxhvhbrnkwrvlrigiqjiuiilglvdtdzqdesrhsypgj...\n",
            "4  rnwfsndhbbzpvkpqinhsaoybyzxxyiqwnhzwiipvhuqxft...\n"
          ],
          "name": "stdout"
        }
      ]
    },
    {
      "cell_type": "code",
      "metadata": {
        "id": "QGt4RaWnV_4D",
        "colab": {
          "base_uri": "https://localhost:8080/",
          "height": 430
        },
        "outputId": "b6cf4737-f9ac-42c2-c8b2-8ab2b517f029"
      },
      "source": [
        "df = pd.concat([plyfr,col, hill,smpl,vgnr])\n",
        "df[\"ciphertext\"]= df[\"ciphertext\"].str.lower() \n",
        "print(df)\n",
        "df.tail(5)\n",
        "#for i in range(4990, 5000)\n",
        " # print(i)"
      ],
      "execution_count": null,
      "outputs": [
        {
          "output_type": "stream",
          "text": [
            "                                            ciphertext\n",
            "0    bckmwbwlvxubpjbdzvtklkuvavokhhlaitgukdybaooncj...\n",
            "1    izszooxhluamewvzceelyoiqakmevauabranboylximhuz...\n",
            "2    fpcgddpntdcvqckpubudqgnjssccgmejndtewacefncmmn...\n",
            "3    pcvehxhvhbrnkwrvlrigiqjiuiilglvdtdzqdesrhsypgj...\n",
            "4    rnwfsndhbbzpvkpqinhsaoybyzxxyiqwnhzwiipvhuqxft...\n",
            "..                                                 ...\n",
            "995  hekgwxyulatfbqrgptkggxunorvketjjtrudwkqkhzmotj...\n",
            "996  atxmdlyilqzybwupngwvfxmdeesbmjgtahmbpgimqmtndl...\n",
            "997  owfbjzejrbovfvcmoyqckvqgdzkcbcrbebsuxpfpblmein...\n",
            "998  pgghbmryyhlsbjnvfegwybsbrjahfpffbjrlkgfooayjnq...\n",
            "999  fsxkopvsvrjbjyagpylefgdueffrwmvyekhfrxptjawsqx...\n",
            "\n",
            "[5000 rows x 1 columns]\n"
          ],
          "name": "stdout"
        },
        {
          "output_type": "execute_result",
          "data": {
            "text/html": [
              "<div>\n",
              "<style scoped>\n",
              "    .dataframe tbody tr th:only-of-type {\n",
              "        vertical-align: middle;\n",
              "    }\n",
              "\n",
              "    .dataframe tbody tr th {\n",
              "        vertical-align: top;\n",
              "    }\n",
              "\n",
              "    .dataframe thead th {\n",
              "        text-align: right;\n",
              "    }\n",
              "</style>\n",
              "<table border=\"1\" class=\"dataframe\">\n",
              "  <thead>\n",
              "    <tr style=\"text-align: right;\">\n",
              "      <th></th>\n",
              "      <th>ciphertext</th>\n",
              "    </tr>\n",
              "  </thead>\n",
              "  <tbody>\n",
              "    <tr>\n",
              "      <th>995</th>\n",
              "      <td>hekgwxyulatfbqrgptkggxunorvketjjtrudwkqkhzmotj...</td>\n",
              "    </tr>\n",
              "    <tr>\n",
              "      <th>996</th>\n",
              "      <td>atxmdlyilqzybwupngwvfxmdeesbmjgtahmbpgimqmtndl...</td>\n",
              "    </tr>\n",
              "    <tr>\n",
              "      <th>997</th>\n",
              "      <td>owfbjzejrbovfvcmoyqckvqgdzkcbcrbebsuxpfpblmein...</td>\n",
              "    </tr>\n",
              "    <tr>\n",
              "      <th>998</th>\n",
              "      <td>pgghbmryyhlsbjnvfegwybsbrjahfpffbjrlkgfooayjnq...</td>\n",
              "    </tr>\n",
              "    <tr>\n",
              "      <th>999</th>\n",
              "      <td>fsxkopvsvrjbjyagpylefgdueffrwmvyekhfrxptjawsqx...</td>\n",
              "    </tr>\n",
              "  </tbody>\n",
              "</table>\n",
              "</div>"
            ],
            "text/plain": [
              "                                            ciphertext\n",
              "995  hekgwxyulatfbqrgptkggxunorvketjjtrudwkqkhzmotj...\n",
              "996  atxmdlyilqzybwupngwvfxmdeesbmjgtahmbpgimqmtndl...\n",
              "997  owfbjzejrbovfvcmoyqckvqgdzkcbcrbebsuxpfpblmein...\n",
              "998  pgghbmryyhlsbjnvfegwybsbrjahfpffbjrlkgfooayjnq...\n",
              "999  fsxkopvsvrjbjyagpylefgdueffrwmvyekhfrxptjawsqx..."
            ]
          },
          "metadata": {
            "tags": []
          },
          "execution_count": 10
        }
      ]
    },
    {
      "cell_type": "code",
      "metadata": {
        "id": "rT907pXG5N1k",
        "colab": {
          "base_uri": "https://localhost:8080/"
        },
        "outputId": "79324112-dd24-4d3d-b3ea-ef5dd6237075"
      },
      "source": [
        "\n",
        "df.shape"
      ],
      "execution_count": null,
      "outputs": [
        {
          "output_type": "execute_result",
          "data": {
            "text/plain": [
              "(5000, 1)"
            ]
          },
          "metadata": {
            "tags": []
          },
          "execution_count": 11
        }
      ]
    },
    {
      "cell_type": "code",
      "metadata": {
        "id": "f3bu4w9CkQFL"
      },
      "source": [
        "y =  [0]*1000 + [1]*1000 + [2]*1000 +[3]*1000 + [4]*1000\n"
      ],
      "execution_count": null,
      "outputs": []
    },
    {
      "cell_type": "code",
      "metadata": {
        "id": "JIV25-i5kQQv",
        "colab": {
          "base_uri": "https://localhost:8080/"
        },
        "outputId": "7523269c-3a4b-498d-f6f3-14deaccdf710"
      },
      "source": [
        "v = TfidfVectorizer(analyzer='char') \n",
        "x = v.fit_transform(df['ciphertext'])\n",
        "len(v.get_feature_names())"
      ],
      "execution_count": null,
      "outputs": [
        {
          "output_type": "execute_result",
          "data": {
            "text/plain": [
              "26"
            ]
          },
          "metadata": {
            "tags": []
          },
          "execution_count": 14
        }
      ]
    },
    {
      "cell_type": "code",
      "metadata": {
        "id": "XM7xFTrJlLyl",
        "colab": {
          "base_uri": "https://localhost:8080/"
        },
        "outputId": "f5bb4e93-b698-40ce-8490-7722414d90e5"
      },
      "source": [
        "import numpy as np\n",
        "x = x.todense()\n",
        "x = np.array(x)\n",
        "y = np.array(y)\n",
        "y = y.reshape((5000,1))\n",
        "print(\"x shape : \", x.shape)\n",
        "print(\"y shape : \", y.shape)"
      ],
      "execution_count": null,
      "outputs": [
        {
          "output_type": "stream",
          "text": [
            "x shape :  (5000, 26)\n",
            "y shape :  (5000, 1)\n"
          ],
          "name": "stdout"
        }
      ]
    },
    {
      "cell_type": "code",
      "metadata": {
        "id": "44EkmWFmlvRJ",
        "colab": {
          "base_uri": "https://localhost:8080/"
        },
        "outputId": "db376555-faf9-42fd-9c6f-2367c1728260"
      },
      "source": [
        "pip install --pre python-docx"
      ],
      "execution_count": null,
      "outputs": [
        {
          "output_type": "stream",
          "text": [
            "Collecting python-docx\n",
            "\u001b[?25l  Downloading https://files.pythonhosted.org/packages/e4/83/c66a1934ed5ed8ab1dbb9931f1779079f8bca0f6bbc5793c06c4b5e7d671/python-docx-0.8.10.tar.gz (5.5MB)\n",
            "\u001b[K     |████████████████████████████████| 5.5MB 5.7MB/s \n",
            "\u001b[?25hRequirement already satisfied: lxml>=2.3.2 in /usr/local/lib/python3.6/dist-packages (from python-docx) (4.2.6)\n",
            "Building wheels for collected packages: python-docx\n",
            "  Building wheel for python-docx (setup.py) ... \u001b[?25l\u001b[?25hdone\n",
            "  Created wheel for python-docx: filename=python_docx-0.8.10-cp36-none-any.whl size=184491 sha256=bbce568342cf32c82148718c159733fa0e4bf73d678cf7f88f2d548891a7de8e\n",
            "  Stored in directory: /root/.cache/pip/wheels/18/0b/a0/1dd62ff812c857c9e487f27d80d53d2b40531bec1acecfa47b\n",
            "Successfully built python-docx\n",
            "Installing collected packages: python-docx\n",
            "Successfully installed python-docx-0.8.10\n"
          ],
          "name": "stdout"
        }
      ]
    },
    {
      "cell_type": "code",
      "metadata": {
        "id": "UqWQExJ7noPy"
      },
      "source": [
        "downloaded = drive.CreateFile({'id':'1k68TudZubsIJC0p-ZW6hE26MMHNy-dq3'})\n",
        "downloaded.GetContentFile('test.docx')"
      ],
      "execution_count": null,
      "outputs": []
    },
    {
      "cell_type": "code",
      "metadata": {
        "id": "bPJZ3j9ilMCX"
      },
      "source": [
        "import docx\n",
        "doc = docx.Document(\"test.docx\")\n",
        "\n",
        "text = []\n",
        "for p in doc.paragraphs:\n",
        "    text.append(p.text)\n",
        "    text = [line.replace(' ', '') for line in text] \n",
        "len(text)\n",
        "\n",
        "'''d = [0,1,2,3,4,5,6,7,8,9,10,11, 12, 13, 15, 17, 19, 21, 23, 25, 27, 29, 31, 33, 34, 35, 36, 38]\n",
        "d = sorted(d, reverse=True)\n",
        "for i in d:\n",
        "    del text[i]'''\n",
        "test = pd.DataFrame(text, columns=[\"ciphertext\"]) "
      ],
      "execution_count": null,
      "outputs": []
    },
    {
      "cell_type": "code",
      "metadata": {
        "id": "QwYG4fODoRdz"
      },
      "source": [
        "x_test = v.fit_transform(test['ciphertext'])\n",
        "x_test = x_test.todense()\n",
        "x_test = np.array(x_test)"
      ],
      "execution_count": null,
      "outputs": []
    },
    {
      "cell_type": "code",
      "metadata": {
        "id": "Ln3a0KD-oRuJ",
        "colab": {
          "base_uri": "https://localhost:8080/"
        },
        "outputId": "60716f7f-488e-44c3-a5c6-7ef16228d29b"
      },
      "source": [
        "model = Sequential()                                          # sequential network\n",
        "model.add(Dense(81, input_dim=26, activation='relu'))         # adding 5 dense layer having 64 hidden units\n",
        "model.add(Dense(40, activation='relu'))\n",
        "model.add(Dense(40, activation='relu'))\n",
        "model.add(Dense(40, activation='relu'))\n",
        "model.add(Dropout(0.3))                                        # dropout\n",
        "model.add(Dense(1, activation='relu'))                      # output layer\n",
        "\n",
        "model.compile(loss='binary_crossentropy',optimizer='Adam',metrics=['accuracy'])                      # compiling the model with objective function-binary crossentropy, and optimizer-SGD\n",
        "\n",
        "model.fit(x, y,epochs=15, batch_size=128)                                               # fitting the modelepochs=20,\n"
      ],
      "execution_count": null,
      "outputs": [
        {
          "output_type": "stream",
          "text": [
            "Epoch 1/15\n",
            "40/40 [==============================] - 1s 2ms/step - loss: 5.0957 - accuracy: 0.1989\n",
            "Epoch 2/15\n",
            "40/40 [==============================] - 0s 2ms/step - loss: -14.5689 - accuracy: 0.2090\n",
            "Epoch 3/15\n",
            "40/40 [==============================] - 0s 2ms/step - loss: -15.5259 - accuracy: 0.1943\n",
            "Epoch 4/15\n",
            "40/40 [==============================] - 0s 2ms/step - loss: -15.1593 - accuracy: 0.2080\n",
            "Epoch 5/15\n",
            "40/40 [==============================] - 0s 2ms/step - loss: -15.6155 - accuracy: 0.1891\n",
            "Epoch 6/15\n",
            "40/40 [==============================] - 0s 2ms/step - loss: -15.2335 - accuracy: 0.1955\n",
            "Epoch 7/15\n",
            "40/40 [==============================] - 0s 2ms/step - loss: -15.2532 - accuracy: 0.1932\n",
            "Epoch 8/15\n",
            "40/40 [==============================] - 0s 2ms/step - loss: -15.3098 - accuracy: 0.1967\n",
            "Epoch 9/15\n",
            "40/40 [==============================] - 0s 2ms/step - loss: -14.7202 - accuracy: 0.2068\n",
            "Epoch 10/15\n",
            "40/40 [==============================] - 0s 2ms/step - loss: -15.6759 - accuracy: 0.1928\n",
            "Epoch 11/15\n",
            "40/40 [==============================] - 0s 2ms/step - loss: -15.0937 - accuracy: 0.1994\n",
            "Epoch 12/15\n",
            "40/40 [==============================] - 0s 2ms/step - loss: -15.2594 - accuracy: 0.1949\n",
            "Epoch 13/15\n",
            "40/40 [==============================] - 0s 2ms/step - loss: -14.9229 - accuracy: 0.2005\n",
            "Epoch 14/15\n",
            "40/40 [==============================] - 0s 2ms/step - loss: -15.3308 - accuracy: 0.2059\n",
            "Epoch 15/15\n",
            "40/40 [==============================] - 0s 2ms/step - loss: -14.8654 - accuracy: 0.2003\n"
          ],
          "name": "stdout"
        },
        {
          "output_type": "execute_result",
          "data": {
            "text/plain": [
              "<tensorflow.python.keras.callbacks.History at 0x7fd128dc5550>"
            ]
          },
          "metadata": {
            "tags": []
          },
          "execution_count": 20
        }
      ]
    },
    {
      "cell_type": "code",
      "metadata": {
        "id": "dVy64HCv6fTU",
        "colab": {
          "base_uri": "https://localhost:8080/"
        },
        "outputId": "275f857d-2166-4949-a030-61077154c5cb"
      },
      "source": [
        "model.summary()"
      ],
      "execution_count": null,
      "outputs": [
        {
          "output_type": "stream",
          "text": [
            "Model: \"sequential\"\n",
            "_________________________________________________________________\n",
            "Layer (type)                 Output Shape              Param #   \n",
            "=================================================================\n",
            "dense (Dense)                (None, 81)                2187      \n",
            "_________________________________________________________________\n",
            "dense_1 (Dense)              (None, 40)                3280      \n",
            "_________________________________________________________________\n",
            "dense_2 (Dense)              (None, 40)                1640      \n",
            "_________________________________________________________________\n",
            "dense_3 (Dense)              (None, 40)                1640      \n",
            "_________________________________________________________________\n",
            "dropout (Dropout)            (None, 40)                0         \n",
            "_________________________________________________________________\n",
            "dense_4 (Dense)              (None, 1)                 41        \n",
            "=================================================================\n",
            "Total params: 8,788\n",
            "Trainable params: 8,788\n",
            "Non-trainable params: 0\n",
            "_________________________________________________________________\n"
          ],
          "name": "stdout"
        }
      ]
    },
    {
      "cell_type": "code",
      "metadata": {
        "id": "WC4O7_-IJaBq"
      },
      "source": [
        ""
      ],
      "execution_count": null,
      "outputs": []
    }
  ]
}